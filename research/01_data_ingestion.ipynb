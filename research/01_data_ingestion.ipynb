{
 "cells": [
  {
   "cell_type": "code",
   "execution_count": 9,
   "metadata": {},
   "outputs": [],
   "source": []
  },
  {
   "cell_type": "code",
   "execution_count": 6,
   "metadata": {},
   "outputs": [],
   "source": []
  },
  {
   "cell_type": "code",
   "execution_count": 11,
   "metadata": {},
   "outputs": [
    {
     "data": {
      "text/plain": [
       "['$RECYCLE.BIN',\n",
       " '.GamingRoot',\n",
       " '100 Days of ML.pdf',\n",
       " '4OK-V5e3_400x400_photos_v2_x4_colored_toned_light_ai.jpg',\n",
       " 'all diabetes data 2',\n",
       " 'all diabetes project',\n",
       " 'anime',\n",
       " 'api-medsathi',\n",
       " 'apisending',\n",
       " 'App development',\n",
       " 'CAFE.pdf',\n",
       " 'cam',\n",
       " 'code',\n",
       " 'CodersLand ML Notes.pdf',\n",
       " 'Cover letter for LFX Aman (1).pdf',\n",
       " 'Cover letter for LFX Aman for Software Discovery Tool.pdf',\n",
       " 'Cover letter for LFX Aman for WasmEdge project.docx',\n",
       " 'Cover letter for LFX Aman for WasmEdge project.pdf',\n",
       " 'Cover letter for LFX Aman.pdf',\n",
       " 'DataSet for practice',\n",
       " 'DumpStack.log.tmp',\n",
       " 'end to end implemention machine learning',\n",
       " 'End-to-End chicken-diesase-implementation',\n",
       " 'finalAPItesting',\n",
       " 'godfather-of-ai-warns-about-dangers.png',\n",
       " 'House-price-prediction-using-flask',\n",
       " 'IMG-20221225-WA0081.jpg',\n",
       " 'javascript',\n",
       " 'java_learning',\n",
       " 'Jenkins-Zero-To-Hero',\n",
       " 'jupyter',\n",
       " 'Langchain LLM',\n",
       " 'lens files',\n",
       " 'LLM model',\n",
       " 'LongChain model',\n",
       " 'machine learning algorithm',\n",
       " 'model visualizer',\n",
       " 'Model-Simulation-',\n",
       " 'movies',\n",
       " 'MyApplication',\n",
       " 'NeuroML model testing',\n",
       " 'Offer Letter -Aman Kumar (1).pdf',\n",
       " 'Operating System Notes.pdf',\n",
       " 'paddle ocr testing for diabetes project',\n",
       " 'portfolio website',\n",
       " 'Program Files',\n",
       " 'Project',\n",
       " 'project Files glitch',\n",
       " 'project_3D_developer_portfolio',\n",
       " 'python prog',\n",
       " 'python_prog',\n",
       " 'react-native-camera-main',\n",
       " 'Resume LFX aman for Mentorship (1).pdf',\n",
       " 'Resume LFX aman for Mentorship.pdf',\n",
       " 'Resume LFX aman.pdf',\n",
       " 'scanzres',\n",
       " 'Slips',\n",
       " 'Speaker card KCD mumbai.zip',\n",
       " 'Spin-demo',\n",
       " 'sripts',\n",
       " 'System Volume Information',\n",
       " 'testing-guardrails',\n",
       " 'text_summarization',\n",
       " 'travel datasets',\n",
       " 'uipartmedsathi',\n",
       " 'web project',\n",
       " 'WindowsApps',\n",
       " 'XboxGames']"
      ]
     },
     "execution_count": 11,
     "metadata": {},
     "output_type": "execute_result"
    }
   ],
   "source": []
  },
  {
   "cell_type": "code",
   "execution_count": 2,
   "metadata": {},
   "outputs": [
    {
     "data": {
      "text/plain": [
       "'val2'"
      ]
     },
     "execution_count": 2,
     "metadata": {},
     "output_type": "execute_result"
    }
   ],
   "source": []
  },
  {
   "cell_type": "code",
   "execution_count": null,
   "metadata": {},
   "outputs": [],
   "source": []
  }
 ],
 "metadata": {
  "kernelspec": {
   "display_name": "ml-environment",
   "language": "python",
   "name": "python3"
  },
  "language_info": {
   "codemirror_mode": {
    "name": "ipython",
    "version": 3
   },
   "file_extension": ".py",
   "mimetype": "text/x-python",
   "name": "python",
   "nbconvert_exporter": "python",
   "pygments_lexer": "ipython3",
   "version": "3.10.9"
  },
  "orig_nbformat": 4
 },
 "nbformat": 4,
 "nbformat_minor": 2
}
