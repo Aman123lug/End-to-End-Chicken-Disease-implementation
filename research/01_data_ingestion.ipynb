{
 "cells": [
  {
   "cell_type": "code",
   "execution_count": 1,
   "metadata": {},
   "outputs": [],
   "source": [
    "import os\n",
    "os.getcwd()\n",
    "os.chdir(\"../\")"
   ]
  },
  {
   "cell_type": "code",
   "execution_count": 2,
   "metadata": {},
   "outputs": [],
   "source": [
    "from dataclasses import dataclass\n",
    "from pathlib import Path\n",
    "\n",
    "@dataclass(frozen=True)\n",
    "class DataIngestionConfig:\n",
    "    root_dir: Path\n",
    "    source_URL: str\n",
    "    local_data_file: Path\n",
    "    unzip_dir: Path\n",
    "    \n",
    "#config_entity"
   ]
  },
  {
   "cell_type": "code",
   "execution_count": null,
   "metadata": {},
   "outputs": [],
   "source": []
  },
  {
   "cell_type": "code",
   "execution_count": 3,
   "metadata": {},
   "outputs": [
    {
     "name": "stdout",
     "output_type": "stream",
     "text": [
      "d:\\End-to-End chicken-diesase-implementation\n"
     ]
    }
   ],
   "source": [
    "from src.cnnClassifier.constant import *\n",
    "from src.cnnClassifier.utils.common import load_bin, read_yaml, create_directories"
   ]
  },
  {
   "cell_type": "code",
   "execution_count": 4,
   "metadata": {},
   "outputs": [],
   "source": [
    "class ConfigurationManager:\n",
    "    def __init__(self, configfile_path = CONFIG_FILE_PATH, paramsfile_path = PARAMS_FILE_PATH) -> None:\n",
    "        \n",
    "        self.config  = read_yaml(configfile_path)\n",
    "        self.params = read_yaml(paramsfile_path)\n",
    "        \n",
    "        create_directories([self.config.artifacts_root])\n",
    "        \n",
    "    def get_data_ingestion_config(self) -> DataIngestionConfig:\n",
    "        config = self.config.data_ingestion\n",
    "        \n",
    "        create_directories([config.root_dir])\n",
    "    \n",
    "    \n",
    "        data_ingestion_config = DataIngestionConfig(\n",
    "            \n",
    "            root_dir=config.root_dir,\n",
    "            source_URL=config.source_URL,\n",
    "            local_data_file=config.local_data_file,\n",
    "            unzip_dir=config.unzip_dir\n",
    "            \n",
    "        )\n",
    "        return data_ingestion_config\n",
    "        \n",
    "# configuration.py"
   ]
  },
  {
   "cell_type": "code",
   "execution_count": 5,
   "metadata": {},
   "outputs": [],
   "source": [
    "import os\n",
    "import urllib.request as request\n",
    "import zipfile\n",
    "from src.cnnClassifier import logger\n",
    "from src.cnnClassifier.utils.common import get_size\n"
   ]
  },
  {
   "cell_type": "code",
   "execution_count": 6,
   "metadata": {},
   "outputs": [],
   "source": [
    "class DataIngestion:\n",
    "    def __init__(self, config: DataIngestionConfig) -> None:\n",
    "        self.config = config\n",
    "    \n",
    "    def download_file(self):\n",
    "        try:\n",
    "            logger.info(\"Fetching zip file...\")\n",
    "            if not os.path.exists(self.config.local_data_file):\n",
    "                filename, dirname = request.urlretrieve(\n",
    "                    url=self.config.source_URL,\n",
    "                    filename=self.config.local_data_file\n",
    "                )\n",
    "                logger.info(f\"File Download Successfully {filename} with : {dirname}\")\n",
    "                \n",
    "            else:\n",
    "                logger.info(f\"File already exists of size: {get_size(Path(self.config.local_data_file))}\") \n",
    "                \n",
    "        except Exception as e:\n",
    "            logger.exception(e)\n",
    "            raise e\n",
    "            \n",
    "        \n",
    "    def extract_zip_file(self):\n",
    "        \n",
    "        unzip_dir = self.config.local_data_file\n",
    "\n",
    "        with zipfile.ZipFile(unzip_dir, \"r\") as unzip:\n",
    "            logger.info(\"zipefile read successfully\")\n",
    "            unzip.extractall(\"data\")\n",
    "            logger.info(\"zipfile extracted successfully\")\n",
    "              "
   ]
  },
  {
   "cell_type": "code",
   "execution_count": 7,
   "metadata": {},
   "outputs": [
    {
     "name": "stdout",
     "output_type": "stream",
     "text": [
      "[2023-07-25 15:05:07,854 - INFO - common - yaml file: config\\config.yaml loaded successfully]\n",
      "[2023-07-25 15:05:07,864 - INFO - common - yaml file: params.yaml loaded successfully]\n",
      "[2023-07-25 15:05:07,867 - INFO - common - Directory created ! artifacts]\n",
      "[2023-07-25 15:05:07,871 - INFO - common - Directory created ! artifacts/data_ingestion]\n",
      "[2023-07-25 15:05:07,872 - INFO - 2118982511 - Fetching zip file...]\n",
      "[2023-07-25 15:05:10,719 - INFO - 2118982511 - File Download Successfully artifacts/data_ingestion/data.zip with : Connection: close\n",
      "Content-Length: 11616915\n",
      "Cache-Control: max-age=300\n",
      "Content-Security-Policy: default-src 'none'; style-src 'unsafe-inline'; sandbox\n",
      "Content-Type: application/zip\n",
      "ETag: \"adf745abc03891fe493c3be264ec012691fe3fa21d861f35a27edbe6d86a76b1\"\n",
      "Strict-Transport-Security: max-age=31536000\n",
      "X-Content-Type-Options: nosniff\n",
      "X-Frame-Options: deny\n",
      "X-XSS-Protection: 1; mode=block\n",
      "X-GitHub-Request-Id: 4958:2CC791:67540:95B45:64BF974B\n",
      "Accept-Ranges: bytes\n",
      "Date: Tue, 25 Jul 2023 09:35:09 GMT\n",
      "Via: 1.1 varnish\n",
      "X-Served-By: cache-del21744-DEL\n",
      "X-Cache: MISS\n",
      "X-Cache-Hits: 0\n",
      "X-Timer: S1690277708.285737,VS0,VE1007\n",
      "Vary: Authorization,Accept-Encoding,Origin\n",
      "Access-Control-Allow-Origin: *\n",
      "Cross-Origin-Resource-Policy: cross-origin\n",
      "X-Fastly-Request-ID: 2b1f04220ad4e3d3d728b53420b55ff97f92b9c2\n",
      "Expires: Tue, 25 Jul 2023 09:40:09 GMT\n",
      "Source-Age: 1\n",
      "\n",
      "]\n",
      "[2023-07-25 15:05:10,736 - INFO - 2118982511 - zipefile read successfully]\n",
      "[2023-07-25 15:05:11,058 - INFO - 2118982511 - zipfile extracted successfully]\n"
     ]
    }
   ],
   "source": [
    "\n",
    "try:\n",
    "    config = ConfigurationManager()\n",
    "    get_config_data = config.get_data_ingestion_config()\n",
    "    data_ingestion = DataIngestion(get_config_data)\n",
    "    data_ingestion.download_file()\n",
    "    data_ingestion.extract_zip_file()\n",
    "    \n",
    "except Exception as e:\n",
    "    e"
   ]
  },
  {
   "cell_type": "code",
   "execution_count": null,
   "metadata": {},
   "outputs": [],
   "source": []
  },
  {
   "cell_type": "code",
   "execution_count": 10,
   "metadata": {},
   "outputs": [
    {
     "data": {
      "text/plain": [
       "'https://github.com/Aman123lug/End-to-End-Chicken-Disease-implementation/raw/main/data/Chicken-fecal-images.zip'"
      ]
     },
     "execution_count": 10,
     "metadata": {},
     "output_type": "execute_result"
    }
   ],
   "source": []
  },
  {
   "cell_type": "code",
   "execution_count": null,
   "metadata": {},
   "outputs": [],
   "source": []
  },
  {
   "cell_type": "code",
   "execution_count": null,
   "metadata": {},
   "outputs": [],
   "source": [
    "\n"
   ]
  },
  {
   "cell_type": "code",
   "execution_count": null,
   "metadata": {},
   "outputs": [],
   "source": []
  }
 ],
 "metadata": {
  "kernelspec": {
   "display_name": "ml-environment",
   "language": "python",
   "name": "python3"
  },
  "language_info": {
   "codemirror_mode": {
    "name": "ipython",
    "version": 3
   },
   "file_extension": ".py",
   "mimetype": "text/x-python",
   "name": "python",
   "nbconvert_exporter": "python",
   "pygments_lexer": "ipython3",
   "version": "3.10.9"
  },
  "orig_nbformat": 4
 },
 "nbformat": 4,
 "nbformat_minor": 2
}
